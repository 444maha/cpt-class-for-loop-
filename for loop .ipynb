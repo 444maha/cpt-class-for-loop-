{
 "cells": [
  {
   "cell_type": "code",
   "execution_count": 9,
   "id": "99fe6a5c-2460-430a-8e78-2777874cb48f",
   "metadata": {},
   "outputs": [
    {
     "name": "stdin",
     "output_type": "stream",
     "text": [
      "enter the number: 1634\n"
     ]
    },
    {
     "name": "stdout",
     "output_type": "stream",
     "text": [
      "Latest value of sum : 1634\n",
      "Latest value of temp: 0\n",
      "1634 is a amstrong number\n"
     ]
    }
   ],
   "source": [
    "#amstrong\n",
    "num=int(input(\"enter the number:\"))\n",
    "temp=num\n",
    "n=len(str(num))\n",
    "sum=0\n",
    "while temp>0:\n",
    "    digit=temp%10\n",
    "    sum+=digit**n\n",
    "    temp //=10\n",
    "print(\"Latest value of sum :\",sum)\n",
    "print(\"Latest value of temp:\",temp)\n",
    "if sum==num:\n",
    "    print(num,\"is a amstrong number\")\n",
    "else:\n",
    "    print(num,\"is not a amstrong number\")\n",
    "  "
   ]
  },
  {
   "cell_type": "code",
   "execution_count": 25,
   "id": "a8e07666-c1e7-45c4-a6e1-40cf475ccb8a",
   "metadata": {},
   "outputs": [
    {
     "name": "stdin",
     "output_type": "stream",
     "text": [
      "enter the number:  90\n"
     ]
    },
    {
     "name": "stdout",
     "output_type": "stream",
     "text": [
      "Latest value of sum : 9\n",
      "Latest value of temp: 0\n",
      "90 is a niven's number\n"
     ]
    }
   ],
   "source": [
    "num=int(input(\"enter the number: \"))\n",
    "temp=num\n",
    "sum=0\n",
    "while temp>0:\n",
    "    digit=temp%10\n",
    "    sum+=digit\n",
    "    temp //=10\n",
    "print(\"Latest value of sum :\",sum)\n",
    "print(\"Latest value of temp:\",temp)\n",
    "if num%sum==0:\n",
    "    print(num,\"is a niven's number\")\n",
    "else:\n",
    "    print(num,\"is not a niven's number\")\n",
    "  \n",
    "    "
   ]
  },
  {
   "cell_type": "code",
   "execution_count": 27,
   "id": "4caac3ef-b010-4033-a7b2-0a30129c1cae",
   "metadata": {},
   "outputs": [
    {
     "name": "stdout",
     "output_type": "stream",
     "text": [
      "Hima\n",
      "Hima\n",
      "Hima\n",
      "Hima\n",
      "Hima\n",
      "Hima\n",
      "Hima\n",
      "Hima\n",
      "Hima\n"
     ]
    }
   ],
   "source": [
    "#for variable in sequence:\n",
    "   #code  block\n",
    "#range of numbers range(starting,ending-1) range(6,11)\n",
    "for i in range(1,10):\n",
    "    print(\"Hima\")"
   ]
  },
  {
   "cell_type": "code",
   "execution_count": 31,
   "id": "0267bbb7-738a-4200-b9f9-dfda58a39f99",
   "metadata": {},
   "outputs": [
    {
     "name": "stdout",
     "output_type": "stream",
     "text": [
      "Hima-Hima-Hima-Hima-Hima-Hima-Hima-Hima-Hima-Hima-"
     ]
    }
   ],
   "source": [
    "for i in range(10):\n",
    "    print(\"Hima\",end=\"-\")"
   ]
  },
  {
   "cell_type": "code",
   "execution_count": 39,
   "id": "2e88bb07-53df-4902-a46d-aaaefa73e803",
   "metadata": {},
   "outputs": [
    {
     "name": "stdout",
     "output_type": "stream",
     "text": [
      "1 4 7 10 "
     ]
    }
   ],
   "source": [
    "for i in range(1,11,3):\n",
    "    print(i,end=\" \")"
   ]
  },
  {
   "cell_type": "code",
   "execution_count": 41,
   "id": "d81dd63c-24ea-4f6f-a52a-f6675ef8a5b5",
   "metadata": {},
   "outputs": [
    {
     "name": "stdin",
     "output_type": "stream",
     "text": [
      "enter a word: mississip\n"
     ]
    },
    {
     "name": "stdout",
     "output_type": "stream",
     "text": [
      "m\n",
      "i\n",
      "s\n",
      "s\n",
      "i\n",
      "s\n",
      "s\n",
      "i\n",
      "p\n"
     ]
    }
   ],
   "source": [
    "#string access (no range need to used)\n",
    "word=input(\"enter a word:\")\n",
    "for ch in word:\n",
    "    print(ch)"
   ]
  },
  {
   "cell_type": "code",
   "execution_count": 59,
   "id": "29438ea0-759a-4a30-a49f-e3bca0d92ae2",
   "metadata": {},
   "outputs": [
    {
     "name": "stdout",
     "output_type": "stream",
     "text": [
      "10 9 8 7 6 5 4 3 2 1 0 "
     ]
    }
   ],
   "source": [
    "for i in range(10,-1,-1):\n",
    "    print(i,end=\" \")"
   ]
  },
  {
   "cell_type": "code",
   "execution_count": 65,
   "id": "4e0aaf0b-b3be-4e36-9796-feb47a92c428",
   "metadata": {},
   "outputs": [
    {
     "name": "stdout",
     "output_type": "stream",
     "text": [
      "square of 1 is 1\n",
      "square of 2 is 4\n",
      "square of 3 is 9\n",
      "square of 4 is 16\n",
      "square of 5 is 25\n",
      "square of 6 is 36\n",
      "square of 7 is 49\n",
      "square of 8 is 64\n",
      "square of 9 is 81\n",
      "square of 10 is 100\n"
     ]
    }
   ],
   "source": [
    "''' write a program to print all the squares of numbers from 1 to 10'''\n",
    "for i in range (1,11):\n",
    "    print(f\"square of {i} is {i*i}\")\n",
    "\n"
   ]
  },
  {
   "cell_type": "code",
   "execution_count": 69,
   "id": "6900b2e7-d3d1-429e-9fcf-6dd7dfdac7ca",
   "metadata": {},
   "outputs": [
    {
     "name": "stdout",
     "output_type": "stream",
     "text": [
      "I\n",
      "N\n",
      "D\n",
      "I\n",
      "A\n",
      " \n",
      " \n",
      " \n",
      "W\n",
      "O\n",
      "N\n"
     ]
    }
   ],
   "source": [
    "for i in \"INDIA   WON\":\n",
    "    print(i)"
   ]
  },
  {
   "cell_type": "code",
   "execution_count": 111,
   "id": "fc452cdd-8d4b-400b-81e1-21591f32ce28",
   "metadata": {},
   "outputs": [
    {
     "name": "stdin",
     "output_type": "stream",
     "text": [
      "enter the number 5\n"
     ]
    },
    {
     "name": "stdout",
     "output_type": "stream",
     "text": [
      "factorial of 5 is 120\n"
     ]
    }
   ],
   "source": [
    "\"find factorial of  given number\"\n",
    "n=int(input(\"enter the number\"))\n",
    "fact=1\n",
    "for i in range (1,n+1):\n",
    "    fact*=i\n",
    "print(f\"factorial of {i} is {fact}\")"
   ]
  },
  {
   "cell_type": "code",
   "execution_count": null,
   "id": "ec1ec091-a415-49de-be75-d9ababb22567",
   "metadata": {},
   "outputs": [],
   "source": []
  }
 ],
 "metadata": {
  "kernelspec": {
   "display_name": "Python 3 (ipykernel)",
   "language": "python",
   "name": "python3"
  },
  "language_info": {
   "codemirror_mode": {
    "name": "ipython",
    "version": 3
   },
   "file_extension": ".py",
   "mimetype": "text/x-python",
   "name": "python",
   "nbconvert_exporter": "python",
   "pygments_lexer": "ipython3",
   "version": "3.12.7"
  }
 },
 "nbformat": 4,
 "nbformat_minor": 5
}
