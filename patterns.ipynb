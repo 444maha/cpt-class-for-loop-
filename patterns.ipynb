{
 "cells": [
  {
   "cell_type": "code",
   "execution_count": 18,
   "id": "5aaf7aad-a349-45fd-93ec-87b7a546f7f7",
   "metadata": {},
   "outputs": [
    {
     "name": "stdin",
     "output_type": "stream",
     "text": [
      "enter the size 5 \n"
     ]
    },
    {
     "name": "stdout",
     "output_type": "stream",
     "text": [
      "        * * * * * * * * \n",
      "      * * * * * * * * \n",
      "    * * * * * * * * \n",
      "  * * * * * * * * \n",
      "* * * * * * * * * * \n"
     ]
    }
   ],
   "source": [
    "n=int(input(\"enter the size\"))\n",
    "for i in range (1, n+1):\n",
    "    for j in range (n-i):\n",
    "        print(' ',end=' ')\n",
    "    for k in range (2*i-1):\n",
    "         print(\"*\",end=\" \")\n",
    "    for r in range (2*j+1):\n",
    "        print(\"*\",end=\" \")-+\n",
    "    print()"
   ]
  },
  {
   "cell_type": "code",
   "execution_count": 40,
   "id": "111f24af-0ace-4808-9f98-3491d4d79b61",
   "metadata": {},
   "outputs": [
    {
     "name": "stdin",
     "output_type": "stream",
     "text": [
      "enter the size 8\n"
     ]
    },
    {
     "name": "stdout",
     "output_type": "stream",
     "text": [
      "              ❤️ \n",
      "            ❤️ ❤️ ❤️ \n",
      "          ❤️ ❤️ ❤️ ❤️ ❤️ \n",
      "        ❤️ ❤️ ❤️ ❤️ ❤️ ❤️ ❤️ \n",
      "      ❤️ ❤️ ❤️ ❤️ ❤️ ❤️ ❤️ ❤️ ❤️ \n",
      "    ❤️ ❤️ ❤️ ❤️ ❤️ ❤️ ❤️ ❤️ ❤️ ❤️ ❤️ \n",
      "  ❤️ ❤️ ❤️ ❤️ ❤️ ❤️ ❤️ ❤️ ❤️ ❤️ ❤️ ❤️ ❤️ \n",
      "❤️ ❤️ ❤️ ❤️ ❤️ ❤️ ❤️ ❤️ ❤️ ❤️ ❤️ ❤️ ❤️ ❤️ ❤️ \n"
     ]
    }
   ],
   "source": [
    "n=int(input(\"enter the size\"))\n",
    "for i in range (1, n+1):\n",
    "    for j in range (n-i):\n",
    "        print(' ',end=' ')\n",
    "    for k in range (2*i-1):\n",
    "        print(\"❤️\",end=\" \")\n",
    "    print()"
   ]
  },
  {
   "cell_type": "code",
   "execution_count": 48,
   "id": "952e5c4a-4266-4724-b81f-9b87a72019d8",
   "metadata": {},
   "outputs": [
    {
     "name": "stdin",
     "output_type": "stream",
     "text": [
      "enter the size 8\n"
     ]
    },
    {
     "name": "stdout",
     "output_type": "stream",
     "text": [
      "                \n",
      "              * \n",
      "            * * * \n",
      "          * * * * * \n",
      "        * * * * * * * \n",
      "      * * * * * * * * * \n",
      "    * * * * * * * * * * * \n",
      "  * * * * * * * * * * * * * \n",
      "    * * * * * * * * * * * \n",
      "      * * * * * * * * * \n",
      "        * * * * * * * \n",
      "          * * * * * \n",
      "            * * * \n",
      "              * \n"
     ]
    }
   ],
   "source": [
    "n=int(input(\"enter the size\"))\n",
    "for i in range( n-1):\n",
    "    for j in range (n-i):\n",
    "        print(' ',end=' ')\n",
    "    for k in range (2*i-1):\n",
    "        print(\"*\",end=\" \")\n",
    "    print()\n",
    "for i in range(n-1,0,-1):\n",
    "    for j in range (n-i):\n",
    "        print(' ',end=' ')\n",
    "    for k in range (2*i-1):\n",
    "        print(\"*\",end=\" \")\n",
    "    print()"
   ]
  },
  {
   "cell_type": "code",
   "execution_count": 46,
   "id": "852dfaad-b963-4081-bd1b-942a4ca5880e",
   "metadata": {
    "scrolled": true
   },
   "outputs": [
    {
     "name": "stdin",
     "output_type": "stream",
     "text": [
      "enter the size 10\n"
     ]
    },
    {
     "name": "stdout",
     "output_type": "stream",
     "text": [
      "                    \n",
      "                  🤣🤣 \n",
      "                🤣🤣 🤣🤣 🤣🤣 \n",
      "              🤣🤣 🤣🤣 🤣🤣 🤣🤣 🤣🤣 \n",
      "            🤣🤣 🤣🤣 🤣🤣 🤣🤣 🤣🤣 🤣🤣 🤣🤣 \n",
      "          🤣🤣 🤣🤣 🤣🤣 🤣🤣 🤣🤣 🤣🤣 🤣🤣 🤣🤣 🤣🤣 \n",
      "        🤣🤣 🤣🤣 🤣🤣 🤣🤣 🤣🤣 🤣🤣 🤣🤣 🤣🤣 🤣🤣 🤣🤣 🤣🤣 \n",
      "      🤣🤣 🤣🤣 🤣🤣 🤣🤣 🤣🤣 🤣🤣 🤣🤣 🤣🤣 🤣🤣 🤣🤣 🤣🤣 🤣🤣 🤣🤣 \n",
      "    🤣🤣 🤣🤣 🤣🤣 🤣🤣 🤣🤣 🤣🤣 🤣🤣 🤣🤣 🤣🤣 🤣🤣 🤣🤣 🤣🤣 🤣🤣 🤣🤣 🤣🤣 \n",
      "  😍😍 😍😍 😍😍 😍😍 😍😍 😍😍 😍😍 😍😍 😍😍 😍😍 😍😍 😍😍 😍😍 😍😍 😍😍 😍😍 😍😍 \n",
      "    😍😍 😍😍 😍😍 😍😍 😍😍 😍😍 😍😍 😍😍 😍😍 😍😍 😍😍 😍😍 😍😍 😍😍 😍😍 \n",
      "      😍😍 😍😍 😍😍 😍😍 😍😍 😍😍 😍😍 😍😍 😍😍 😍😍 😍😍 😍😍 😍😍 \n",
      "        😍😍 😍😍 😍😍 😍😍 😍😍 😍😍 😍😍 😍😍 😍😍 😍😍 😍😍 \n",
      "          😍😍 😍😍 😍😍 😍😍 😍😍 😍😍 😍😍 😍😍 😍😍 \n",
      "            😍😍 😍😍 😍😍 😍😍 😍😍 😍😍 😍😍 \n",
      "              😍😍 😍😍 😍😍 😍😍 😍😍 \n",
      "                😍😍 😍😍 😍😍 \n",
      "                  😍😍 \n"
     ]
    }
   ],
   "source": [
    "n=int(input(\"enter the size\"))\n",
    "for i in range( n-1):\n",
    "    for j in range (n-i):\n",
    "        print(' ',end=' ')\n",
    "    for k in range (2*i-1):\n",
    "        print(\"🤣🤣 \",end=\" \")\n",
    "    print()\n",
    "for i in range(n-1,0,-1):\n",
    "    for j in range (n-i):\n",
    "        print(' ',end=' ')\n",
    "    for k in range (2*i-1):\n",
    "        print(\"😍😍\",end=\" \")\n",
    "    print()"
   ]
  },
  {
   "cell_type": "code",
   "execution_count": 18,
   "id": "ec6b2c83-785b-4e3a-9d7a-448315d0c743",
   "metadata": {},
   "outputs": [
    {
     "name": "stdin",
     "output_type": "stream",
     "text": [
      "enter the size 5 \n"
     ]
    },
    {
     "name": "stdout",
     "output_type": "stream",
     "text": [
      "        * * * * * * * * \n",
      "      * * * * * * * * \n",
      "    * * * * * * * * \n",
      "  * * * * * * * * \n",
      "* * * * * * * * * * \n"
     ]
    }
   ],
   "source": [
    "n=int(input(\"enter the size\"))\n",
    "for i in range (1, n+1):\n",
    "    for j in range (n-i):\n",
    "        print(' ',end=' ')\n",
    "    for k in range (2*i-1):\n",
    "         print(\"*\",end=\" \")\n",
    "    for r in range (2*j+1):\n",
    "        print(\"*\",end=\" \")\n",
    "    print()"
   ]
  },
  {
   "cell_type": "code",
   "execution_count": 20,
   "id": "88d9f437-e3e7-4bfa-a59d-a311a5346e2d",
   "metadata": {},
   "outputs": [
    {
     "name": "stdin",
     "output_type": "stream",
     "text": [
      "enter the size 6\n"
     ]
    },
    {
     "name": "stdout",
     "output_type": "stream",
     "text": [
      "* * * * * * * * * * * \n",
      "  * * * * * * * * * \n",
      "    * * * * * * * \n",
      "      * * * * * \n",
      "        * * * \n",
      "          * \n"
     ]
    }
   ],
   "source": [
    "n=int(input(\"enter the size\"))\n",
    "for i in range (n,0,-1):\n",
    "    for j in range (n-i):\n",
    "        print(' ',end=' ')\n",
    "    for k in range (2*i-1):\n",
    "        print(\"*\",end=\" \")\n",
    "    print()"
   ]
  },
  {
   "cell_type": "code",
   "execution_count": 1,
   "id": "3e9348e2-4e84-4e01-95e7-6ae3c5d96213",
   "metadata": {},
   "outputs": [
    {
     "name": "stdin",
     "output_type": "stream",
     "text": [
      "enter the size 8\n"
     ]
    },
    {
     "name": "stdout",
     "output_type": "stream",
     "text": [
      "              * \n",
      "            * * * \n",
      "          * * * * * \n",
      "        * * * * * * * \n",
      "      * * * * * * * * * \n",
      "    * * * * * * * * * * * \n",
      "  * * * * * * * * * * * * * \n",
      "* * * * * * * * * * * * * * * \n"
     ]
    }
   ],
   "source": [
    "n=int(input(\"enter the size\"))\n",
    "for i in range (1, n+1):\n",
    "    for j in range (n-i):\n",
    "        print(' ',end=' ')\n",
    "    for k in range (2*i-1):\n",
    "        print(\"*\",end=\" \")\n",
    "    print()"
   ]
  },
  {
   "cell_type": "code",
   "execution_count": 3,
   "id": "28611077-f06d-437c-8b00-851ee4c777cc",
   "metadata": {},
   "outputs": [
    {
     "name": "stdin",
     "output_type": "stream",
     "text": [
      "enter the size 6\n"
     ]
    },
    {
     "name": "stdout",
     "output_type": "stream",
     "text": [
      "          * \n",
      "          * * * \n",
      "          * * * * * \n",
      "          * * * * * * * \n",
      "          * * * * * * * * * \n",
      "          * * * * * * * * * * * \n"
     ]
    }
   ],
   "source": [
    "n=int(input(\"enter the size\"))\n",
    "for i in range (1, n+1):\n",
    "    for j in range (n-1):\n",
    "        print(' ',end=' ')\n",
    "    for k in range (2*i-1):\n",
    "        print(\"*\",end=\" \")\n",
    "    print()"
   ]
  }
 ],
 "metadata": {
  "kernelspec": {
   "display_name": "Python 3 (ipykernel)",
   "language": "python",
   "name": "python3"
  },
  "language_info": {
   "codemirror_mode": {
    "name": "ipython",
    "version": 3
   },
   "file_extension": ".py",
   "mimetype": "text/x-python",
   "name": "python",
   "nbconvert_exporter": "python",
   "pygments_lexer": "ipython3",
   "version": "3.12.7"
  }
 },
 "nbformat": 4,
 "nbformat_minor": 5
}
